{
  "cells": [
    {
      "cell_type": "markdown",
      "metadata": {
        "id": "view-in-github",
        "colab_type": "text"
      },
      "source": [
        "<a href=\"https://colab.research.google.com/github/mlexperimentsedge/colab/blob/main/hector.ipynb\" target=\"_parent\"><img src=\"https://colab.research.google.com/assets/colab-badge.svg\" alt=\"Open In Colab\"/></a>"
      ]
    },
    {
      "cell_type": "code",
      "execution_count": null,
      "metadata": {
        "id": "ZZxe9U8F_saT"
      },
      "outputs": [],
      "source": [
        "!pip install pyyaml==5.1\n",
        "\n",
        "import torch\n",
        "TORCH_VERSION = \".\".join(torch.__version__.split(\".\")[:2])\n",
        "CUDA_VERSION = torch.__version__.split(\"+\")[-1]\n",
        "print(\"torch: \", TORCH_VERSION, \"; cuda: \", CUDA_VERSION)\n",
        "# Install detectron2 that matches the above pytorch version\n",
        "# See https://detectron2.readthedocs.io/tutorials/install.html for instructions\n",
        "!pip install detectron2 -f https://dl.fbaipublicfiles.com/detectron2/wheels/$CUDA_VERSION/torch$TORCH_VERSION/index.html\n",
        "# If there is not yet a detectron2 release that matches the given torch + CUDA version, you need to install a different pytorch.\n",
        "\n",
        "# exit(0)  # After installation, you may need to \"restart runtime\" in Colab. This line can also restart runtime"
      ]
    },
    {
      "cell_type": "code",
      "execution_count": null,
      "metadata": {
        "id": "u2JGzDLrAdUG"
      },
      "outputs": [],
      "source": [
        "# Some basic setup:\n",
        "# Setup detectron2 logger\n",
        "import detectron2\n",
        "from detectron2.utils.logger import setup_logger\n",
        "setup_logger()\n",
        "\n",
        "# import some common libraries\n",
        "import numpy as np\n",
        "import os, json, cv2, random\n",
        "from google.colab.patches import cv2_imshow\n",
        "\n",
        "# import some common detectron2 utilities\n",
        "from detectron2 import model_zoo\n",
        "from detectron2.engine import DefaultPredictor\n",
        "from detectron2.config import get_cfg\n",
        "from detectron2.utils.visualizer import Visualizer\n",
        "from detectron2.data import MetadataCatalog, DatasetCatalog"
      ]
    },
    {
      "cell_type": "code",
      "execution_count": null,
      "metadata": {
        "id": "zNOu0rkbrW2F"
      },
      "outputs": [],
      "source": [
        "!git clone https://github.com/facebookresearch/detectron2 detectron2_repo"
      ]
    },
    {
      "cell_type": "code",
      "execution_count": null,
      "metadata": {
        "id": "ljIJ8NB0A2LD"
      },
      "outputs": [],
      "source": [
        "cfg = get_cfg()\n",
        "cfg.merge_from_file(\"./detectron2_repo/configs/COCO-InstanceSegmentation/mask_rcnn_R_50_FPN_3x.yaml\")\n",
        "cfg.MODEL.ROI_HEADS.SCORE_THRESH_TEST = 0.4  # set threshold for this model\n",
        "# Find a model from detectron2's model zoo. You can either use the https://dl.fbaipublicfiles.... url, or use the following shorthand\n",
        "cfg.MODEL.WEIGHTS = \"detectron2://COCO-InstanceSegmentation/mask_rcnn_R_50_FPN_3x/137849600/model_final_f10217.pkl\"\n",
        "predictor = DefaultPredictor(cfg)\n"
      ]
    },
    {
      "cell_type": "code",
      "execution_count": null,
      "metadata": {
        "id": "r48Vpi59b0gU"
      },
      "outputs": [],
      "source": [
        "!pip install import_ipynb\n",
        "!pip install ipynb\n",
        "\n",
        "!pip install pandas\n",
        "!pip3 install opencv-python\n",
        "!pip install youtube_dl\n",
        "!pip install git+https://github.com/Cupcakus/pafy\n",
        "\n",
        "!git clone https://github.com/mlexperimentsedge/scray.git\n",
        "!cd scray && git checkout hector_seminar_2021\n",
        "!mv scray/projects/edge/coral/actions/* .\n",
        "!mv scray/projects/edge/coral/data ..\n",
        "!mv scray/projects/edge/coral/* ..\n",
        "!mkdir -p /home/jovyan/results/\n",
        "#!rm -rf /home/jovyan/results/*"
      ]
    },
    {
      "cell_type": "code",
      "execution_count": null,
      "metadata": {
        "id": "YFV4t4ZEBFrt"
      },
      "outputs": [],
      "source": [
        "from google.colab import drive\n",
        "\n",
        "drive.mount('/content/gdrive')"
      ]
    },
    {
      "cell_type": "code",
      "execution_count": null,
      "metadata": {
        "id": "GgI0btDRhu6i"
      },
      "outputs": [],
      "source": [
        "!cp /content/gdrive/My\\ Drive/VM/hector/HpdO5Kq3o7Y.tar.gz .\n",
        "!tar xzf HpdO5Kq3o7Y.tar.gz\n",
        "!rm -rf /home\n",
        "!mv home /"
      ]
    },
    {
      "cell_type": "code",
      "execution_count": null,
      "metadata": {
        "id": "Q0i9I37pvoJR"
      },
      "outputs": [],
      "source": [
        "!ls -lh *.tar\n",
        "#!tar xvf KIXprc4-ifE.tar\n",
        "#!mv data2/tokyo/KIXprc4-ifE /home/jovyan/test/\n",
        "#!ls data2 \n",
        "#!rm *.tar"
      ]
    },
    {
      "cell_type": "code",
      "source": [
        "from google.colab import files\n",
        "upload = files.upload()"
      ],
      "metadata": {
        "id": "l2LIykb6ptoc"
      },
      "execution_count": null,
      "outputs": []
    },
    {
      "cell_type": "code",
      "execution_count": null,
      "metadata": {
        "id": "F8kyhUSmcSZ0"
      },
      "outputs": [],
      "source": [
        "import import_ipynb\n",
        "import ipynb\n",
        "from ipynb.fs.full.video_actions_v2 import *\n",
        "from ipynb.fs.full.interact_with_app import *\n",
        "from ipynb.fs.full.box_tool import *"
      ]
    },
    {
      "cell_type": "code",
      "execution_count": null,
      "metadata": {
        "id": "_zvS1RvCf8ov"
      },
      "outputs": [],
      "source": [
        "from IPython.display import display\n",
        "from IPython.display import clear_output\n",
        "\n",
        "class SimpleApplicationWidget(BaseWidget):\n",
        "    def __init__(self, filename=None):\n",
        "        self.pipeline = EasyVideoPipeLine()\n",
        "        self.fileWidget = FileWidget(action=self.pipeline, callback=self.init, get_save_action=self.get_current_pipeline  ,filename = filename, description='pipeline')\n",
        "        self._run = widgets.Checkbox(description='play',value=False)\n",
        "        self.out  = widgets.Output()\n",
        "        \n",
        "        display(self.fileWidget.hbox,self.out)\n",
        "        \n",
        "        if filename != None:\n",
        "            self.fileWidget.on_load_button_clicked('')\n",
        "        \n",
        "    def init(self,action):\n",
        "        #deleteAllTasks('test')\n",
        "        self.pipeline = action\n",
        "        self._displayWidget = DisplayWidget(action=self.pipeline.actions[0])\n",
        "        self._imageWidget2 = ImageWidget(display=False)\n",
        "        self._tab = TabWidget(action=self.pipeline.actions[0], displayWidget=self._displayWidget, imageWidget=self._imageWidget2)\n",
        "\n",
        "        self._tab.create_widget(self.pipeline.sources,imageWidget=self._imageWidget2)\n",
        "\n",
        "        _parent = None\n",
        "        for _action in self.pipeline.actions:\n",
        "            _widget = self._tab.create_widget(_action,imageWidget=self._imageWidget2)\n",
        "            if _widget != None:\n",
        "                _widget.parent = _parent\n",
        "            _parent = _widget\n",
        "\n",
        "        # !!!!!!!!!!!!!!! rework !!!!!!!    \n",
        "        self._tab._widgets[1].crop_list.options = self.pipeline.actions[0].sources.videos[self.pipeline.actions[0].id]['bookmarks'].keys()    \n",
        "        self._tab._widgets[1].parent = self.pipeline.actions[0]\n",
        "        self._tab._widgets[1].displayWidget = self._displayWidget\n",
        "        self._tab._widgets[0].child = self._tab._widgets[1]\n",
        "        self._tab._widgets[0].action =  self.pipeline.actions[0]\n",
        "        \n",
        "        self._tab._widgets[1].displayWidget.action.sources = self._tab._widgets[0].sources\n",
        "        \n",
        "        self._tab._widgets[2].parent = self._tab._widgets[1]\n",
        "\n",
        "        #self.exe = HaltableActionExecutor(booleanField=self._run,imageWidget=self._imageWidget2,sleep=0,action=self._tab,name='test')\n",
        "        #self.exe.start()\n",
        "        \n",
        "        with self.out:\n",
        "            clear_output()\n",
        "            display(self._run,self._displayWidget.hbox, self._tab.tab)\n",
        "            self._imageWidget2.display()\n",
        "            display(self._tab.update_to) \n",
        "\n",
        "    def get_current_pipeline(self):\n",
        "        return EasyVideoPipeLine(sources=self._tab._widgets[0].sources, actions=self._tab._widgets)"
      ]
    },
    {
      "cell_type": "code",
      "execution_count": null,
      "metadata": {
        "id": "bjIR-tJEeLHp"
      },
      "outputs": [],
      "source": [
        "_app_test = SimpleApplicationWidget(filename = '_EasyVideoPipeLine_641_481.json')\n"
      ]
    },
    {
      "cell_type": "code",
      "execution_count": null,
      "metadata": {
        "id": "uiWG5a8ygZ1u"
      },
      "outputs": [],
      "source": [
        "_key='HpdO5Kq3o7Y'\n",
        "_video_path= '../data/images/box_bookmarks_6_12/images_'+ _key+'.json'\n",
        "#_video_path= '../data/images/box_bookmarks_3_6/images_'+ _key+'.json'\n",
        "loadVideo(app=_app_test,key='/home/jovyan/test/'+_key,filename=_video_path,index=5)\n",
        "\n",
        "_crop_list = list(_app_test._tab._widgets[1].crop_list.options)\n",
        "del _crop_list[0]"
      ]
    },
    {
      "cell_type": "code",
      "execution_count": null,
      "metadata": {
        "id": "e43mWyFrj3He"
      },
      "outputs": [],
      "source": [
        "_video = _app_test._tab._widgets[0]\n",
        "_video.action.position=0\n",
        "_files= sorted(listdir(_video.action.directory))\n",
        "_filename =  _files[_video.action.position]\n",
        "_image_path = _video.action.directory + '/' + _filename\n",
        "#_filename.split('.png'),len(_files),_video.action.position"
      ]
    },
    {
      "cell_type": "code",
      "execution_count": null,
      "metadata": {
        "id": "zDeWBOx7kG-V"
      },
      "outputs": [],
      "source": [
        "\n",
        "import pathlib\n",
        "import os\n",
        "import shutil\n",
        "\n",
        "#pathlib.Path(destination).mkdir(parents=True, exist_ok=True)\n",
        "\n",
        "import tarfile\n",
        "import os.path\n",
        "\n",
        "def make_tarfile(output_filename, source_dir):\n",
        "    with tarfile.open(output_filename, \"w:gz\") as tar:\n",
        "        tar.add(source_dir, arcname=os.path.basename(source_dir))\n",
        "\n",
        "def create_grid_images_for_colab(position):\n",
        "    _video = _app_test._tab._widgets[0]\n",
        "    _video.action.position=position\n",
        "    _files= sorted(listdir(_video.action.directory))\n",
        "    _filename =  _files[_video.action.position]\n",
        "    _image_path = _video.action.directory + '/' + _filename\n",
        "\n",
        "    _dir=_filename.split('.png')[0]\n",
        "    destination='/home/jovyan/results/' + _dir\n",
        "    pathlib.Path(destination).mkdir(parents=True, exist_ok=True)\n",
        "\n",
        "    for _crop in _crop_list:\n",
        "        _app_test._tab._widgets[1].crop_list.value=_crop\n",
        "        result=_app_test._tab.evaluateWidgetActionList(end=None, image={'image':Image.open(open(_image_path, 'rb'))})\n",
        "        result['image'].save(destination + '/' + str(_crop) + '.png')\n",
        "    #make_tarfile('/home/jovyan/results/' +  _dir + 'tar.gz', destination)   \n",
        "    return destination \n",
        "        \n",
        "        \n",
        "#for _pos in range(0,11):        \n",
        "#    create_grid_images_for_colab(_pos)       \n",
        "\n",
        "_files= sorted(listdir(_video.action.directory))"
      ]
    },
    {
      "cell_type": "code",
      "execution_count": null,
      "metadata": {
        "id": "mOw1UliMzAUg"
      },
      "outputs": [],
      "source": [
        "_files= sorted(listdir(_video.action.directory))\n",
        "_dir = create_grid_images_for_colab(0)"
      ]
    },
    {
      "cell_type": "code",
      "execution_count": null,
      "metadata": {
        "id": "5V71HuWj4n7x"
      },
      "outputs": [],
      "source": [
        "#!ls -l /home/jovyan/results/HpdO5Kq3o7Y_5_1640037617.3795395_Dec-20-22:00:17-2021_\n",
        "#!ls -l /home/jovyan/results/HpdO5Kq3o7Y_5_1640037951.7493029_Dec-20-22:05:51-2021_\n",
        "len(_files)"
      ]
    },
    {
      "cell_type": "code",
      "execution_count": null,
      "metadata": {
        "id": "4K9D_gY2l5fO"
      },
      "outputs": [],
      "source": [
        "from google.colab.patches import cv2_imshow\n",
        "import cv2\n",
        "img = cv2.imread('/home/jovyan/results/HpdO5Kq3o7Y_5_1640037951.7493029_Dec-20-22:05:51-2021_/Box_0_11.png', cv2.IMREAD_UNCHANGED)\n",
        "#img = cv2.imread(_image_path, cv2.IMREAD_UNCHANGED)\n",
        "cv2_imshow(img)"
      ]
    },
    {
      "cell_type": "code",
      "execution_count": null,
      "metadata": {
        "id": "LsFKA73_6OIR"
      },
      "outputs": [],
      "source": [
        "_image_path"
      ]
    },
    {
      "cell_type": "code",
      "execution_count": null,
      "metadata": {
        "id": "ubsSfdkexTSE"
      },
      "outputs": [],
      "source": [
        "!ls /home/jovyan/test/HpdO5Kq3o7Y/"
      ]
    },
    {
      "cell_type": "code",
      "execution_count": null,
      "metadata": {
        "id": "vTSUMr_MoR1b"
      },
      "outputs": [],
      "source": [
        "#!ls /content/gdrive/My\\ Drive/*.tar\n",
        "#!ls -l 'HpdO5Kq3o7Y_5_1640037617.3795395_Dec-20-22:00:17-2021_.tar'\n",
        "#!ls /content/gdrive/My\\ Drive/VM/hector\n",
        "#!cp /content/gdrive/My\\ Drive/VM/hector/grid_images.tar .\n",
        "#!tar xvf ./grid_images.tar\n",
        "\n",
        "#!cp /content/gdrive/My\\ Drive/VM/hector/HpdO5Kq3o7Y.tar.gz .\n",
        "#!tar xzf HpdO5Kq3o7Y.tar.gz\n",
        "\n",
        "#!gunzip HpdO5Kq3o7Y.tar.gz\n",
        "#!tar xvf HpdO5Kq3o7Y.tar\n",
        "\n",
        "#!ls home/jovyan/test/HpdO5Kq3o7Y/HpdO5Kq3o7Y_5_1640040103.7931623_Dec-20-22:41:43-2021_.png\n",
        "#!tar tzf HpdO5Kq3o7Y.tar.gz\n",
        "\n",
        "#!ls\n",
        "!cd grid_images\n",
        "!ls\t  grid_images/3_6\n",
        "\n",
        "#cat grid_images/3_6/*.tar.gz | tar -xzf - -i\n",
        "#cat grid_images/3_6/*.tar.gz\n",
        "\n",
        "\n",
        "#for file in grid_images/3_6/*.tar.gz; do tar -zxf \"$file\"; done\n",
        "!ls grid_images/3_6/"
      ]
    },
    {
      "cell_type": "code",
      "execution_count": null,
      "metadata": {
        "id": "1y4ir7jFmwsg"
      },
      "outputs": [],
      "source": [
        "tar -zxf  grid_images/3_6/HpdO5Kq3o7Y_5_1640037617.3795395_Dec-20-22:00:17-2021_tar.gz\n",
        "tar -zxf  grid_images/3_6/HpdO5Kq3o7Y_5_1640037951.7493029_Dec-20-22:05:51-2021_tar.gz\n",
        "tar -zxf  grid_images/3_6/HpdO5Kq3o7Y_5_1640038282.5878997_Dec-20-22:11:22-2021_tar.gz\n",
        "tar -zxf  grid_images/3_6/HpdO5Kq3o7Y_5_1640038620.7245889_Dec-20-22:17:00-2021_tar.gz\n",
        "tar -zxf  grid_images/3_6/HpdO5Kq3o7Y_5_1640038784.0560174_Dec-20-22:19:44-2021_tar.gz\n",
        "tar -zxf  grid_images/3_6/HpdO5Kq3o7Y_5_1640039272.673703_Dec-20-22:27:52-2021_tar.gz\n",
        "tar -zxf  grid_images/3_6/HpdO5Kq3o7Y_5_1640039441.6225734_Dec-20-22:30:41-2021_tar.gz\n",
        "tar -zxf  grid_images/3_6/HpdO5Kq3o7Y_5_1640039610.3964567_Dec-20-22:33:30-2021_tar.gz\n",
        "tar -zxf  grid_images/3_6/HpdO5Kq3o7Y_5_1640040103.7931623_Dec-20-22:41:43-2021_tar.gz\n",
        "tar -zxf  grid_images/3_6/HpdO5Kq3o7Y_5_1640040758.7373326_Dec-20-22:52:38-2021_tar.gz\n",
        "tar -zxf  grid_images/3_6/HpdO5Kq3o7Y_5_1640040921.8141193_Dec-20-22:55:21-2021_tar.gz\n",
        "tar -zxf  grid_images/3_6/HpdO5Kq3o7Y_5_1640037617.3795395_Dec-20-22:00:17-2021_tar.gz\n",
        "tar -zxf  grid_images/3_6/HpdO5Kq3o7Y_5_1640037951.7493029_Dec-20-22:05:51-2021_tar.gz\n",
        "tar -zxf  grid_images/3_6/HpdO5Kq3o7Y_5_1640038282.5878997_Dec-20-22:11:22-2021_tar.gz\n",
        "tar -zxf  grid_images/3_6/HpdO5Kq3o7Y_5_1640038620.7245889_Dec-20-22:17:00-2021_tar.gz\n",
        "tar -zxf  grid_images/3_6/HpdO5Kq3o7Y_5_1640038784.0560174_Dec-20-22:19:44-2021_tar.gz\n",
        "tar -zxf  grid_images/3_6/HpdO5Kq3o7Y_5_1640039272.673703_Dec-20-22:27:52-2021_tar.gz\n",
        "tar -zxf  grid_images/3_6/HpdO5Kq3o7Y_5_1640039441.6225734_Dec-20-22:30:41-2021_tar.gz\n",
        "tar -zxf  grid_images/3_6/HpdO5Kq3o7Y_5_1640039610.3964567_Dec-20-22:33:30-2021_tar.gz\n",
        "tar -zxf  grid_images/3_6/HpdO5Kq3o7Y_5_1640040103.7931623_Dec-20-22:41:43-2021_tar.gz\n",
        "tar -zxf  grid_images/3_6/HpdO5Kq3o7Y_5_1640040758.7373326_Dec-20-22:52:38-2021_tar.gz\n",
        "tar -zxf  grid_images/3_6/HpdO5Kq3o7Y_5_1640040921.8141193_Dec-20-22:55:21-2021_tar.gz"
      ]
    },
    {
      "cell_type": "code",
      "execution_count": null,
      "metadata": {
        "id": "SUGUy8DpBcLF"
      },
      "outputs": [],
      "source": [
        "#!cp '/content/gdrive/My Drive/HpdO5Kq3o7Y_5_1640037617.3795395_Dec-20-22:00:17-2021_.tar' .\n",
        "#!tar xvf 'HpdO5Kq3o7Y_5_1640037617.3795395_Dec-20-22:00:17-2021_.tar' --force-local\n",
        "!ls home/jovyan/results/HpdO5Kq3o7Y_5_1640037617.3795395_Dec-20-22:00:17-2021_\n",
        "!ls .\n",
        "#!git clone https://github.com/facebookresearch/detectron2 detectron2_repo\n",
        "#!pip install -e detectron2_repo"
      ]
    },
    {
      "cell_type": "code",
      "execution_count": null,
      "metadata": {
        "id": "iIcjNR7Lqskz"
      },
      "outputs": [],
      "source": [
        "!ls home/jovyan/results/HpdO5Kq3o7Y_5_1640037617.3795395_Dec-20-22:00:17-2021_\n",
        "listdir(_path)[20]"
      ]
    },
    {
      "cell_type": "code",
      "execution_count": null,
      "metadata": {
        "id": "onXACCJjCcxy"
      },
      "outputs": [],
      "source": [
        "from os import listdir\n",
        "_path='/home/jovyan/results/HpdO5Kq3o7Y_5_1640037617.3795395_Dec-20-22:00:17-2021_'\n",
        "_filename = listdir(_path)[0]\n",
        "im = cv2.imread(_path + '/' + _filename)\n",
        "cv2_imshow(im)"
      ]
    },
    {
      "cell_type": "code",
      "execution_count": null,
      "metadata": {
        "id": "PqlFQTPyz--M"
      },
      "outputs": [],
      "source": [
        "listdir(_path)"
      ]
    },
    {
      "cell_type": "code",
      "execution_count": null,
      "metadata": {
        "id": "SZ1CUnyoAme8"
      },
      "outputs": [],
      "source": [
        "#!cp '/content/gdrive/My Drive/VM/hector/KIXprc4-ifE_4_1643020091.7038214_Jan-24-10 28 11-2022_.png' ./input.jpg\n",
        "#!cp '/content/gdrive/My Drive/VM/hector/KIXprc4-ifE_4_1643012339.6149848_Jan-24-08 18 59-2022_.png' ./input.jpg\n",
        "#!cp '/content/gdrive/My Drive/VM/hector/HpdO5Kq3o7Y_5_1643183569.8751938_Jan-26-07 52 49-2022_.png' ./input.jpg\n",
        "#!cp '/content/gdrive/My Drive/VM/HpdO5Kq3o7Y_5_1643196981.7330947_Jan-26-11 36 21-2022_.png' ./input.jpg\n",
        "\n",
        "#im = cv2.imread(\"./input.jpg\")\n",
        "#cv2_imshow(im)\n",
        "!pwd\n",
        "!ls"
      ]
    },
    {
      "cell_type": "code",
      "execution_count": null,
      "metadata": {
        "id": "zgoxChLVsRZw"
      },
      "outputs": [],
      "source": [
        ""
      ]
    },
    {
      "cell_type": "markdown",
      "metadata": {
        "id": "nl6RSTR1sSMF"
      },
      "source": [
        "# Init and predict"
      ]
    },
    {
      "cell_type": "code",
      "execution_count": null,
      "metadata": {
        "id": "klJ0bi1HQTyB"
      },
      "outputs": [],
      "source": [
        "import pathlib\n",
        "import os\n",
        "import shutil\n",
        "\n",
        "import json\n",
        "from os import listdir\n",
        "\n",
        "def getBox(i,outputs):\n",
        "   return outputs[\"instances\"].pred_boxes[i].tensor.cpu().numpy()[0]               \n",
        "def getScore(i,outputs):\n",
        "   return float(outputs[\"instances\"].scores[i].cpu().numpy())\n",
        "def getClass(i,outputs):\n",
        "   return outputs[\"instances\"].pred_classes[i]\n",
        "def getClassName(i,outputs):\n",
        "   return MetadataCatalog.get(cfg.DATASETS.TRAIN[0]).thing_classes[getClass(i,outputs)]\n",
        "\n",
        "\n",
        "def get_fboxes(_filename,outputs):\n",
        "  fboxes={}\n",
        "  if len(outputs[\"instances\"].pred_classes > 0):\n",
        "      name =_filename.split('.')[0]\n",
        "      fboxes[name]=[]\n",
        "      \n",
        "      for i,item in enumerate(outputs[\"instances\"].pred_classes):\n",
        "          box = getBox(i,outputs)\n",
        "          #print (getClassName(i), getScore(i),getBox(i)[0][0])\n",
        "          obj={}\n",
        "          obj['score'] = getScore(i,outputs)\n",
        "          obj['label'] = getClassName(i,outputs)\n",
        "          obj['bbox'] = {'xmin': round(box[0]),'ymin': round(box[1]),'xmax': round(box[2]),'ymax': round(box[3])}\n",
        "          fboxes[name].append(obj)  \n",
        "  return fboxes\n",
        "\n",
        "def create_fbox_files(_path=None,_dir=None):\n",
        "  destination='./results/' + _dir\n",
        "  pathlib.Path(destination).mkdir(parents=True, exist_ok=True)\n",
        "  for _filename in listdir(_path):\n",
        "    _img_path= _path + '/' + _filename\n",
        "    im = cv2.imread(_img_path)\n",
        "    outputs = predictor(im)\n",
        "    #_filename='HpdO5Kq3o7Y_5_1640040103.7931623_Dec-20-22:41:43-2021_.png'         \n",
        "    fboxes = get_fboxes(_filename,outputs) \n",
        "\n",
        "    if len(fboxes.keys()) > 0:\n",
        "      with open(destination + '/' + _filename.split('.png')[0] + '_full_' + '.json', 'w') as f:\n",
        "          json.dump(fboxes, f)\n",
        "      _path2='./results/' +  _dir + 'tar.gz'      \n",
        "      make_tarfile(_path2, destination)       \n",
        "      shutil.move(_path2, '/content/gdrive/My Drive/VM/hector/output2/' +  _dir + 'tar.gz')\n",
        "\n",
        "#_path = 'home/jovyan/test/HpdO5Kq3o7Y/'        "
      ]
    },
    {
      "cell_type": "code",
      "source": [
        "_files= sorted(listdir(_video.action.directory))\n",
        "for index in range(0,11):\n",
        "  !rm -rf /home/jovyan/results/*\n",
        "  !rm -rf ./results/*\n",
        "  _dir = create_grid_images_for_colab(index)\n",
        "  create_fbox_files(_path=_dir,_dir=_files[_video.action.position].split('.png')[0])"
      ],
      "metadata": {
        "id": "d9MtGGPZY2nw"
      },
      "execution_count": null,
      "outputs": []
    },
    {
      "cell_type": "code",
      "source": [
        "#!ls /home/jovyan/results\n",
        "#!ls *.tar"
      ],
      "metadata": {
        "id": "kde7_0inY6Wi"
      },
      "execution_count": null,
      "outputs": []
    },
    {
      "cell_type": "code",
      "execution_count": null,
      "metadata": {
        "id": "oFST9lZhC0NU"
      },
      "outputs": [],
      "source": [
        "_img_path= '/home/jovyan/results/HpdO5Kq3o7Y_5_1640037617.3795395_Dec-20-22:00:17-2021_/Box_0_0.png'\n",
        "im = cv2.imread(_img_path)\n",
        "outputs = predictor(im)\n",
        "len(get_fboxes('box',outputs).keys()) > 0"
      ]
    },
    {
      "cell_type": "code",
      "execution_count": null,
      "metadata": {
        "id": "1lBNgiI8DW2c"
      },
      "outputs": [],
      "source": [
        "outputs[\"instances\"].pred_boxes.tensor"
      ]
    },
    {
      "cell_type": "code",
      "execution_count": null,
      "metadata": {
        "id": "w5FKCFsNzQUf"
      },
      "outputs": [],
      "source": [
        "#!ls /home/jovyan/results/HpdO5Kq3o7Y_5_1640037617.3795395_Dec-20-22:00:17-2021_\n",
        "#_dir\n",
        "create_fbox_files(_path=_dir,_dir=_files[_video.action.position].split('.png')[0])"
      ]
    },
    {
      "cell_type": "code",
      "execution_count": null,
      "metadata": {
        "id": "932ugqiu66BS"
      },
      "outputs": [],
      "source": [
        "#!rm -rf  results/*\n",
        "#!ls -l results/*.gz\n",
        "#!ls /content/gdrive/My Drive/VM/hector/output2/HpdO5Kq3o7Y_5_1640037617.3795395_Dec-20-22:00:17-2021_tar.gz"
      ]
    },
    {
      "cell_type": "code",
      "execution_count": null,
      "metadata": {
        "id": "vP_cKNds27LS"
      },
      "outputs": [],
      "source": [
        "_files[_video.action.position].split('.png')[0]"
      ]
    },
    {
      "cell_type": "code",
      "execution_count": null,
      "metadata": {
        "id": "HmaUZ00zgvsG"
      },
      "outputs": [],
      "source": [
        "!ls\n",
        "!mv *.json  /content/gdrive/My\\ Drive/VM/hector/output"
      ]
    },
    {
      "cell_type": "code",
      "execution_count": null,
      "metadata": {
        "id": "wingwRiGUCFF"
      },
      "outputs": [],
      "source": [
        "print(outputs[\"instances\"].pred_classes)\n",
        "print(outputs[\"instances\"].pred_boxes)"
      ]
    },
    {
      "cell_type": "code",
      "execution_count": null,
      "metadata": {
        "id": "fjjKyqnKUOEa"
      },
      "outputs": [],
      "source": [
        "def getBox(i):\n",
        "   return outputs[\"instances\"].pred_boxes[i].tensor.cpu().numpy()[0]               \n",
        "def getScore(i):\n",
        "   return float(outputs[\"instances\"].scores[i].cpu().numpy())\n",
        "def getClass(i):\n",
        "   return outputs[\"instances\"].pred_classes[i]\n",
        "def getClassName(i):\n",
        "   return MetadataCatalog.get(cfg.DATASETS.TRAIN[0]).thing_classes[getClass(i)]\n",
        "\n",
        "#for i in output_pred_boxes.__iter__():\n",
        "#      print(i.cpu().numpy())\n",
        "\n",
        "fboxes={}\n",
        "for _filename in listdir(_path):\n",
        "  im = cv2.imread(_path + '/' + _filename)\n",
        "  outputs = predictor(im)\n",
        "  if len(outputs[\"instances\"].pred_classes > 0):\n",
        "    #print(_filename,outputs[\"instances\"].pred_classes)\n",
        "    #print(outputs[\"instances\"].pred_boxes)\n",
        "\n",
        "    \n",
        "    name =_filename.split('.')[0]\n",
        "    fboxes[name]=[]\n",
        "    \n",
        "    for i,item in enumerate(outputs[\"instances\"].pred_classes):\n",
        "        box = getBox(i)\n",
        "        #print (getClassName(i), getScore(i),getBox(i)[0][0])\n",
        "        obj={}\n",
        "        obj['score'] = getScore(i)\n",
        "        obj['label'] = getClassName(i)\n",
        "        obj['bbox'] = {'xmin': round(box[0]),'ymin': round(box[1]),'xmax': round(box[2]),'ymax': round(box[3])}\n",
        "        fboxes[name].append(obj)  "
      ]
    },
    {
      "cell_type": "code",
      "execution_count": null,
      "metadata": {
        "id": "k0_Y3ib5sc7W"
      },
      "outputs": [],
      "source": [
        "#_path\n",
        "#fboxes\n",
        "_filename.split('.')[0]\n",
        "_filename.split('.')[0] + '_full_' + '.json'"
      ]
    },
    {
      "cell_type": "code",
      "execution_count": null,
      "metadata": {
        "id": "T_cBEnFEg6Pc"
      },
      "outputs": [],
      "source": [
        "\n"
      ]
    },
    {
      "cell_type": "code",
      "execution_count": null,
      "metadata": {
        "id": "dtlArp_Jun3X"
      },
      "outputs": [],
      "source": [
        "!cp *.json '/content/gdrive/My Drive/VM/hector/'"
      ]
    },
    {
      "cell_type": "code",
      "execution_count": null,
      "metadata": {
        "id": "5lO6Uq5qe_mj"
      },
      "outputs": [],
      "source": [
        "output_pred_boxes = outputs[\"instances\"].pred_boxes\n",
        "\n",
        "for i in output_pred_boxes.__iter__():\n",
        "  print(type(i))\n",
        "  print(i.cpu().numpy())\n",
        "\n",
        "getBox(0).tensor.cpu().numpy()[0][0]  "
      ]
    },
    {
      "cell_type": "code",
      "execution_count": null,
      "metadata": {
        "id": "SWwFEqeUcBRf"
      },
      "outputs": [],
      "source": [
        "type(fbox['bbox']).cpu()\n",
        "\n",
        "#output_pred_boxes = outputs[\"instances\"].pred_boxes\n",
        "#for i in output_pred_boxes.__iter__():\n",
        "#print(i.cpu().numpy())"
      ]
    },
    {
      "cell_type": "code",
      "execution_count": null,
      "metadata": {
        "id": "RjMPOFzUA_lU"
      },
      "outputs": [],
      "source": [
        "# We can use `Visualizer` to draw the predictions on the image.\n",
        "v = Visualizer(im[:, :, ::-1], MetadataCatalog.get(cfg.DATASETS.TRAIN[0]), scale=1.2)\n",
        "v = v.draw_instance_predictions(outputs[\"instances\"].to(\"cpu\"))\n",
        "cv2_imshow(v.get_image()[:, :, ::-1])"
      ]
    }
  ],
  "metadata": {
    "colab": {
      "collapsed_sections": [],
      "name": "hector.ipynb",
      "provenance": [],
      "toc_visible": true,
      "authorship_tag": "ABX9TyNaYcBe1zLAjek2K7VuDkF0",
      "include_colab_link": true
    },
    "kernelspec": {
      "display_name": "Python 3",
      "name": "python3"
    },
    "language_info": {
      "name": "python"
    },
    "accelerator": "GPU"
  },
  "nbformat": 4,
  "nbformat_minor": 0
}